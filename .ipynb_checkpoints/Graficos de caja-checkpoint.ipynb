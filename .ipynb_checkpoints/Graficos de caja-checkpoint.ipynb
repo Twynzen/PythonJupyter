{
 "cells": [
  {
   "cell_type": "code",
   "execution_count": 2,
   "metadata": {},
   "outputs": [],
   "source": [
    "#Diagrama de caja\n",
    "#Sirve para representar gráficamente una serie de datos numéricos a través de sus cuartiles"
   ]
  },
  {
   "cell_type": "code",
   "execution_count": 5,
   "metadata": {},
   "outputs": [],
   "source": [
    "import pandas as pd \n",
    "import numpy as np\n",
    "import matplotlib as mpl\n",
    "import seaborn as sns\n",
    "%matplotlib inline"
   ]
  },
  {
   "cell_type": "code",
   "execution_count": 2,
   "metadata": {},
   "outputs": [],
   "source": [
    "datos = np.random.randn(100)"
   ]
  },
  {
   "cell_type": "code",
   "execution_count": 6,
   "metadata": {},
   "outputs": [
    {
     "data": {
      "text/plain": [
       "array([ 0.90453226,  1.19367302,  0.12593117,  0.31501568,  0.96259036,\n",
       "       -0.79955508, -0.07796526, -1.53258029, -0.35790273, -0.88752859,\n",
       "        0.48093265,  0.50931517, -0.86465806,  1.37888434, -0.16861491,\n",
       "        2.07671842,  0.85016744,  0.50151916,  0.24163348,  1.15625211,\n",
       "        0.75114586, -1.08906554,  0.11726591, -0.26285807, -0.50619469,\n",
       "       -0.01858062, -0.95439952,  0.96133892,  0.4306325 , -1.17437717,\n",
       "       -1.1145034 ,  0.00962842,  0.90933918,  2.01176502, -1.02495345,\n",
       "        2.10749475, -0.97645972, -0.64831445,  0.94186317, -0.0947557 ,\n",
       "        0.81903226,  1.0675636 ,  0.14742427, -0.12733819,  0.17965818,\n",
       "        0.83490954, -1.53627372,  1.4230006 , -0.33952843, -1.32794891,\n",
       "       -0.31381381, -0.15415158,  1.11403825, -0.1361158 , -0.5079527 ,\n",
       "       -0.35083721, -1.42657772,  1.7891635 , -0.05884444, -0.40471909,\n",
       "        0.32158523,  0.43741488, -0.58318429,  0.31595351,  0.27840403,\n",
       "        0.79521949,  0.22807   ,  0.41728307, -1.05321357,  0.55488857,\n",
       "       -0.76222191,  1.68574363,  1.24734309, -0.99673338,  2.37614376,\n",
       "        2.67905408, -1.12396451, -1.64240124, -0.99306383,  1.10444875,\n",
       "       -1.23333749, -1.76096929, -0.43644964, -0.28831974, -1.56250319,\n",
       "        0.38531594,  0.78033711, -0.08104334,  0.21953615,  1.01000442,\n",
       "        0.18277811, -1.00604749,  0.923855  ,  0.22094438, -0.91182189,\n",
       "        0.83625039, -0.43178568,  0.34047748,  0.21462658, -0.03906465])"
      ]
     },
     "execution_count": 6,
     "metadata": {},
     "output_type": "execute_result"
    }
   ],
   "source": [
    "datos"
   ]
  },
  {
   "cell_type": "code",
   "execution_count": null,
   "metadata": {},
   "outputs": [],
   "source": []
  }
 ],
 "metadata": {
  "kernelspec": {
   "display_name": "Python 3",
   "language": "python",
   "name": "python3"
  },
  "language_info": {
   "codemirror_mode": {
    "name": "ipython",
    "version": 3
   },
   "file_extension": ".py",
   "mimetype": "text/x-python",
   "name": "python",
   "nbconvert_exporter": "python",
   "pygments_lexer": "ipython3",
   "version": "3.7.3"
  }
 },
 "nbformat": 4,
 "nbformat_minor": 2
}
