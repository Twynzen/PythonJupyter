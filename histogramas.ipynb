{
 "cells": [
  {
   "cell_type": "code",
   "execution_count": 1,
   "metadata": {},
   "outputs": [],
   "source": [
    "import pandas as pd\n",
    "import numpy as np"
   ]
  },
  {
   "cell_type": "code",
   "execution_count": 2,
   "metadata": {},
   "outputs": [],
   "source": [
    "import matplotlib as mpl \n",
    "import seaborn as sns "
   ]
  },
  {
   "cell_type": "code",
   "execution_count": 3,
   "metadata": {},
   "outputs": [],
   "source": [
    "%matplotlib inline "
   ]
  },
  {
   "cell_type": "code",
   "execution_count": 4,
   "metadata": {},
   "outputs": [
    {
     "data": {
      "text/plain": [
       "array([-0.2176455 , -0.21154069, -0.27076164,  0.58033491,  0.47585269,\n",
       "       -0.60970681, -0.65817123,  0.29642685, -0.95990692,  1.47527527,\n",
       "       -0.39262702,  0.47551548,  0.54532796,  0.94142827, -0.54239566,\n",
       "        0.52402762, -0.12743667,  0.72153608,  1.15290271,  1.03941715,\n",
       "       -0.96863236, -0.25675794,  0.42554042, -1.58320243,  0.95352121,\n",
       "        0.20533461, -0.0926137 ,  0.5678505 ,  1.30460852, -2.93626891,\n",
       "       -0.12504665,  1.56904566,  0.75777318,  0.65888315, -0.10219217,\n",
       "       -0.59846765,  0.65411933, -0.21988472,  2.13282042, -0.03538418,\n",
       "        0.35972415,  0.91288235,  2.34532659,  0.61102824,  3.33626976,\n",
       "        0.31055093,  2.92327576, -0.07266729, -1.38927636, -1.90869926,\n",
       "        0.57250489, -1.46920354,  0.34171569,  0.3038678 , -2.46841187,\n",
       "       -0.24686331,  1.04876013, -0.1611757 ,  0.37762969,  0.52105383,\n",
       "        0.87036338,  0.01548299, -2.5073328 , -0.2378003 , -1.22979647,\n",
       "       -1.30531798,  2.12763341,  0.13128473,  0.96269876, -0.60019671,\n",
       "        0.41023483, -0.4452628 ,  0.64588296,  0.81365997,  0.93119792,\n",
       "       -1.85458197,  0.57055179, -0.7742566 , -1.11175472,  0.6070039 ,\n",
       "        0.68231974,  0.1789057 ,  0.78785847, -0.55371266, -0.00364063,\n",
       "        0.23857034,  1.29344334, -1.25492538,  0.68390054,  0.35013048,\n",
       "        0.30081998,  1.64610308, -1.36528852,  0.27467751,  0.34566803,\n",
       "        1.3276916 , -0.818914  ,  0.6020078 , -0.46324528, -0.0095162 ])"
      ]
     },
     "execution_count": 4,
     "metadata": {},
     "output_type": "execute_result"
    }
   ],
   "source": [
    "datos1 = np.random.randn(100)\n",
    "datos1"
   ]
  },
  {
   "cell_type": "code",
   "execution_count": 5,
   "metadata": {},
   "outputs": [
    {
     "data": {
      "text/plain": [
       "(array([ 3.,  2.,  8., 12., 20., 35., 12.,  3.,  3.,  2.]),\n",
       " array([-2.93626891, -2.30901504, -1.68176117, -1.05450731, -0.42725344,\n",
       "         0.20000043,  0.82725429,  1.45450816,  2.08176203,  2.70901589,\n",
       "         3.33626976]),\n",
       " <a list of 10 Patch objects>)"
      ]
     },
     "execution_count": 5,
     "metadata": {},
     "output_type": "execute_result"
    },
    {
     "data": {
      "image/png": "[encoded data removed]",
      "text/plain": [
       "<Figure size 432x288 with 1 Axes>"
      ]
     },
     "metadata": {
      "needs_background": "light"
     },
     "output_type": "display_data"
    }
   ],
   "source": [
    "mpl.pyplot.hist(datos1)"
   ]
  },
  {
   "cell_type": "code",
   "execution_count": 7,
   "metadata": {},
   "outputs": [
    {
     "data": {
      "text/plain": [
       "<matplotlib.axes._subplots.AxesSubplot at 0x216652b4240>"
      ]
     },
     "execution_count": 7,
     "metadata": {},
     "output_type": "execute_result"
    },
    {
     "data": {
      "image/png": "[encoded data removed]",
      "text/plain": [
       "<Figure size 432x288 with 1 Axes>"
      ]
     },
     "metadata": {
      "needs_background": "light"
     },
     "output_type": "display_data"
    }
   ],
   "source": [
    "sns.distplot(datos1)"
   ]
  },
  {
   "cell_type": "code",
   "execution_count": null,
   "metadata": {},
   "outputs": [],
   "source": []
  }
 ],
 "metadata": {
  "kernelspec": {
   "display_name": "Python 3",
   "language": "python",
   "name": "python3"
  },
  "language_info": {
   "codemirror_mode": {
    "name": "ipython",
    "version": 3
   },
   "file_extension": ".py",
   "mimetype": "text/x-python",
   "name": "python",
   "nbconvert_exporter": "python",
   "pygments_lexer": "ipython3",
   "version": "3.7.3"
  }
 },
 "nbformat": 4,
 "nbformat_minor": 2
}
